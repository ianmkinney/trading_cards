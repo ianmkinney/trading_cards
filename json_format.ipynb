{
 "cells": [
  {
   "cell_type": "code",
   "execution_count": 7,
   "metadata": {},
   "outputs": [],
   "source": [
    "import pandas as pd\n",
    "import json"
   ]
  },
  {
   "cell_type": "code",
   "execution_count": 8,
   "metadata": {},
   "outputs": [
    {
     "data": {
      "text/html": [
       "<div>\n",
       "<style scoped>\n",
       "    .dataframe tbody tr th:only-of-type {\n",
       "        vertical-align: middle;\n",
       "    }\n",
       "\n",
       "    .dataframe tbody tr th {\n",
       "        vertical-align: top;\n",
       "    }\n",
       "\n",
       "    .dataframe thead th {\n",
       "        text-align: right;\n",
       "    }\n",
       "</style>\n",
       "<table border=\"1\" class=\"dataframe\">\n",
       "  <thead>\n",
       "    <tr style=\"text-align: right;\">\n",
       "      <th></th>\n",
       "      <th>name</th>\n",
       "      <th>level</th>\n",
       "      <th>images</th>\n",
       "      <th>price</th>\n",
       "      <th>img_url</th>\n",
       "      <th>rarity</th>\n",
       "      <th>number</th>\n",
       "    </tr>\n",
       "  </thead>\n",
       "  <tbody>\n",
       "    <tr>\n",
       "      <th>0</th>\n",
       "      <td>Alakazam</td>\n",
       "      <td>42.0</td>\n",
       "      <td>{'small': 'https://images.pokemontcg.io/base1/...</td>\n",
       "      <td>0</td>\n",
       "      <td></td>\n",
       "      <td>Rare Holo</td>\n",
       "      <td>1</td>\n",
       "    </tr>\n",
       "    <tr>\n",
       "      <th>1</th>\n",
       "      <td>Blastoise</td>\n",
       "      <td>52.0</td>\n",
       "      <td>{'small': 'https://images.pokemontcg.io/base1/...</td>\n",
       "      <td>0</td>\n",
       "      <td></td>\n",
       "      <td>Rare Holo</td>\n",
       "      <td>2</td>\n",
       "    </tr>\n",
       "  </tbody>\n",
       "</table>\n",
       "</div>"
      ],
      "text/plain": [
       "        name  level                                             images  price  \\\n",
       "0   Alakazam   42.0  {'small': 'https://images.pokemontcg.io/base1/...      0   \n",
       "1  Blastoise   52.0  {'small': 'https://images.pokemontcg.io/base1/...      0   \n",
       "\n",
       "  img_url     rarity  number  \n",
       "0          Rare Holo       1  \n",
       "1          Rare Holo       2  "
      ]
     },
     "execution_count": 8,
     "metadata": {},
     "output_type": "execute_result"
    }
   ],
   "source": [
    "# Import json and consolidate\n",
    "poke_df = pd.read_json('./pokemon_raw.json')\n",
    "poke_df['price'] = 0\n",
    "poke_df['img_url'] = \"\"\n",
    "poke_df = poke_df[['name','level','images','price','img_url','rarity','number']]\n",
    "poke_df.head(2)"
   ]
  },
  {
   "cell_type": "code",
   "execution_count": 9,
   "metadata": {},
   "outputs": [
    {
     "data": {
      "text/html": [
       "<div>\n",
       "<style scoped>\n",
       "    .dataframe tbody tr th:only-of-type {\n",
       "        vertical-align: middle;\n",
       "    }\n",
       "\n",
       "    .dataframe tbody tr th {\n",
       "        vertical-align: top;\n",
       "    }\n",
       "\n",
       "    .dataframe thead th {\n",
       "        text-align: right;\n",
       "    }\n",
       "</style>\n",
       "<table border=\"1\" class=\"dataframe\">\n",
       "  <thead>\n",
       "    <tr style=\"text-align: right;\">\n",
       "      <th></th>\n",
       "      <th>name</th>\n",
       "      <th>level</th>\n",
       "      <th>price</th>\n",
       "      <th>img_url</th>\n",
       "      <th>rarity</th>\n",
       "      <th>number</th>\n",
       "      <th>image</th>\n",
       "    </tr>\n",
       "  </thead>\n",
       "  <tbody>\n",
       "    <tr>\n",
       "      <th>0</th>\n",
       "      <td>Alakazam</td>\n",
       "      <td>42.0</td>\n",
       "      <td>0</td>\n",
       "      <td></td>\n",
       "      <td>Rare Holo</td>\n",
       "      <td>1</td>\n",
       "      <td>https://images.pokemontcg.io/base1/1.png</td>\n",
       "    </tr>\n",
       "    <tr>\n",
       "      <th>1</th>\n",
       "      <td>Blastoise</td>\n",
       "      <td>52.0</td>\n",
       "      <td>0</td>\n",
       "      <td></td>\n",
       "      <td>Rare Holo</td>\n",
       "      <td>2</td>\n",
       "      <td>https://images.pokemontcg.io/base1/2.png</td>\n",
       "    </tr>\n",
       "  </tbody>\n",
       "</table>\n",
       "</div>"
      ],
      "text/plain": [
       "        name  level  price img_url     rarity  number  \\\n",
       "0   Alakazam   42.0      0          Rare Holo       1   \n",
       "1  Blastoise   52.0      0          Rare Holo       2   \n",
       "\n",
       "                                      image  \n",
       "0  https://images.pokemontcg.io/base1/1.png  \n",
       "1  https://images.pokemontcg.io/base1/2.png  "
      ]
     },
     "execution_count": 9,
     "metadata": {},
     "output_type": "execute_result"
    }
   ],
   "source": [
    "# Grab wanted img_url from images dict\n",
    "i = 0\n",
    "for dict in poke_df['images']:\n",
    "    poke_df.at[i,'image'] = dict['small']\n",
    "    i = i+1\n",
    "poke_df.drop(columns=['images'], inplace=True)\n",
    "poke_df.head(2)"
   ]
  },
  {
   "cell_type": "code",
   "execution_count": 10,
   "metadata": {},
   "outputs": [
    {
     "data": {
      "text/plain": [
       "array(['Rare Holo', 'Rare', 'Uncommon', 'Common'], dtype=object)"
      ]
     },
     "execution_count": 10,
     "metadata": {},
     "output_type": "execute_result"
    }
   ],
   "source": [
    "# List unique rarities to dtermine price\n",
    "poke_df['rarity'].unique()"
   ]
  },
  {
   "cell_type": "code",
   "execution_count": 11,
   "metadata": {},
   "outputs": [
    {
     "data": {
      "text/html": [
       "<div>\n",
       "<style scoped>\n",
       "    .dataframe tbody tr th:only-of-type {\n",
       "        vertical-align: middle;\n",
       "    }\n",
       "\n",
       "    .dataframe tbody tr th {\n",
       "        vertical-align: top;\n",
       "    }\n",
       "\n",
       "    .dataframe thead th {\n",
       "        text-align: right;\n",
       "    }\n",
       "</style>\n",
       "<table border=\"1\" class=\"dataframe\">\n",
       "  <thead>\n",
       "    <tr style=\"text-align: right;\">\n",
       "      <th></th>\n",
       "      <th>name</th>\n",
       "      <th>level</th>\n",
       "      <th>price</th>\n",
       "      <th>rarity</th>\n",
       "      <th>image</th>\n",
       "    </tr>\n",
       "  </thead>\n",
       "  <tbody>\n",
       "    <tr>\n",
       "      <th>0</th>\n",
       "      <td>Alakazam</td>\n",
       "      <td>42.0</td>\n",
       "      <td>158</td>\n",
       "      <td>Rare Holo</td>\n",
       "      <td>https://images.pokemontcg.io/base1/1.png</td>\n",
       "    </tr>\n",
       "    <tr>\n",
       "      <th>1</th>\n",
       "      <td>Blastoise</td>\n",
       "      <td>52.0</td>\n",
       "      <td>146</td>\n",
       "      <td>Rare Holo</td>\n",
       "      <td>https://images.pokemontcg.io/base1/2.png</td>\n",
       "    </tr>\n",
       "  </tbody>\n",
       "</table>\n",
       "</div>"
      ],
      "text/plain": [
       "        name  level  price     rarity  \\\n",
       "0   Alakazam   42.0    158  Rare Holo   \n",
       "1  Blastoise   52.0    146  Rare Holo   \n",
       "\n",
       "                                      image  \n",
       "0  https://images.pokemontcg.io/base1/1.png  \n",
       "1  https://images.pokemontcg.io/base1/2.png  "
      ]
     },
     "execution_count": 11,
     "metadata": {},
     "output_type": "execute_result"
    }
   ],
   "source": [
    "import random\n",
    "\n",
    "def getPrice(rarity):\n",
    "    if rarity == 'Rare Holo':\n",
    "        return 80 + random.random() * 80\n",
    "    if rarity == 'Rare':\n",
    "        return 50 + random.random() * 50\n",
    "    if rarity == 'Uncommon':\n",
    "        return 10 + random.random() * 10    \n",
    "    if rarity == 'Common':\n",
    "        return 5 + random.random() * 5\n",
    "\n",
    "for index, card in poke_df.iterrows():\n",
    "    poke_df.at[index,'price'] = getPrice(card['rarity'])\n",
    "\n",
    "poke_df = poke_df[['name', 'level', 'price', 'rarity', 'number', 'image']]\n",
    "poke_df.head(2)"
   ]
  },
  {
   "cell_type": "code",
   "execution_count": 12,
   "metadata": {},
   "outputs": [],
   "source": [
    "poke_df.to_json(r'pokemon_cards.json',orient='records')"
   ]
  }
 ],
 "metadata": {
  "interpreter": {
   "hash": "651c3b7b3f466eb030aa737f279c846be4db9cba49a2f229278cab5e41121ed5"
  },
  "kernelspec": {
   "display_name": "Python 3.8.8 64-bit ('base': conda)",
   "name": "python3"
  },
  "language_info": {
   "codemirror_mode": {
    "name": "ipython",
    "version": 3
   },
   "file_extension": ".py",
   "mimetype": "text/x-python",
   "name": "python",
   "nbconvert_exporter": "python",
   "pygments_lexer": "ipython3",
   "version": "3.8.8"
  },
  "orig_nbformat": 4
 },
 "nbformat": 4,
 "nbformat_minor": 2
}
